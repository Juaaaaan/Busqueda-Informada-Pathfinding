{
 "cells": [
  {
   "cell_type": "code",
   "execution_count": null,
   "metadata": {
    "collapsed": true
   },
   "outputs": [],
   "source": [
    "#Librerías\n",
    "\n",
    "import numpy as np\n",
    "import pandas as pd\n",
    "from matplotlib import pyplot as plt"
   ]
  },
  {
   "cell_type": "code",
   "execution_count": null,
   "metadata": {
    "collapsed": true
   },
   "outputs": [],
   "source": [
    "#Definición de función heurística\n",
    "\n",
    "def heuristica(celda):\n",
    "    dx=abs(celda.x-goal.x)\n",
    "    dy=abs(celda.y-goal.y)\n",
    "    return D*(dx+dy)+(D2-2*D)*min(dx,dy)"
   ]
  },
  {
   "cell_type": "code",
   "execution_count": null,
   "metadata": {},
   "outputs": [],
   "source": [
    "#Cargamos el mapa y lo pintamos\n",
    "\n",
    "                    #Terreno       Terreno      Muro    Muro    Árboles     Pantano     Agua\n",
    "colores = np.array([[255,255,255],[255,255,255],[0,0,0],[0,0,0],[11,255,3],[0,255,171],[17,0,255]], dtype=np.uint8)\n",
    "\n",
    "\n",
    "mapFile = open('./bootybay.map','r').read().split()\n",
    "mapa = np.array(mapFile)\n",
    "height = int(mapa[3])\n",
    "width = int(mapa[5])\n",
    "mapa = mapa[7:][:]\n",
    "#print(mapa)\n",
    "#Hacemos una matriz de ceros\n",
    "mapa2 = np.zeros((height,width))\n",
    "for i in range(0,height):\n",
    "    for j in range(0,width):\n",
    "        if mapa[i][j] == \".\" or mapa[i][j] == \"G\":\n",
    "            mapa2[i][j] = 1\n",
    "        elif mapa[i][j] == \"@\" or mapa[i][j] == \"O\":\n",
    "            mapa2[i][j] = 2\n",
    "        elif mapa[i][j] == \"T\":\n",
    "            mapa2[i][j] = 4\n",
    "        elif mapa[i][j] == \"S\":\n",
    "            mapa2[i][j] = 5\n",
    "        elif mapa[i][j] == \"W\":\n",
    "            mapa2[i][j] = 6\n",
    "\n",
    "\n",
    "mapa2=mapa2.astype(int)\n",
    "plt.imshow(colores[mapa2])\n",
    "plt.show()"
   ]
  },
  {
   "cell_type": "code",
   "execution_count": null,
   "metadata": {},
   "outputs": [],
   "source": []
  },
  {
   "cell_type": "code",
   "execution_count": null,
   "metadata": {},
   "outputs": [],
   "source": []
  },
  {
   "cell_type": "code",
   "execution_count": null,
   "metadata": {
    "collapsed": true
   },
   "outputs": [],
   "source": [
    "#Funciones necesarias\n",
    "\n",
    "#Extrae_\n",
    "def extrae_prim(abiertos){\n",
    "    return abiertos[0]\n",
    "}\n",
    "\n",
    "#Cada nodo tiene que estar definido por: nodo[coord_x, coord_y, f(n), h(n), g(n)]\n",
    "def es_estado_final(nodo_actual){\n",
    "    estado=False\n",
    "    if(nodo_actual[0] == \"\"\"coodenada objetivo x \"\"\" and nodo_actual[1] == \"\"\"coodenada objetivo x \"\"\"):\n",
    "            estado=True\n",
    "    return estado\n",
    "}\n",
    "\n",
    "def camino(){\n",
    "    \n",
    "}\n",
    "\n",
    "def sucesores(){\n",
    "    \n",
    "}\n",
    "\n",
    "def gestiona_cola_Aestrella(){\n",
    "    \n",
    "}\n",
    "\n",
    "def gestiona_cola_Avara(abiertos, sucesores){\n",
    "    cola = abiertos.append(sucesores)\n",
    "    abiertos = sorted(sucesores, key=nodo[2]) #ordenamos los sucesores por orden ascendente de f(n)\n",
    "    return abiertos\n",
    "}"
   ]
  },
  {
   "cell_type": "code",
   "execution_count": null,
   "metadata": {
    "collapsed": true
   },
   "outputs": [],
   "source": [
    "#A*\n",
    "\n",
    "def Aestrella(estado_ini, estado_fin){\n",
    "    \n",
    "    abiertos=[estado_ini]\n",
    "    cerrados=[]\n",
    "    \n",
    "    while(len(abiertos) != 0):\n",
    "        nodo_actual = extrae_prim(abiertos)\n",
    "        #poner nodo_actual en cerrado \n",
    "        if(es_estado_final(nodo_actual) == True):\n",
    "            print(camino(nodo_actual))\n",
    "        else:\n",
    "            sucesores(nodo_actual)\n",
    "            if(sucesor in cerrados):\n",
    "                if(\"\"\"coste del sucesor es menor\"\"\"):\n",
    "                    #insertar ordenadamente actualizar coste y camino\n",
    "            elif(sucesor in abiertos):\n",
    "                if(\"\"\"coste del sucesor es menor\"\"\"):\n",
    "                    #insertar ordenadamente actualizar coste y camino\n",
    "            gestiona_cola_Aestrella(abiertos, sucesores)     \n",
    "}\n"
   ]
  },
  {
   "cell_type": "code",
   "execution_count": null,
   "metadata": {
    "collapsed": true
   },
   "outputs": [],
   "source": [
    "#Avara\n",
    "\n",
    "def Avara(estado_ini, estado_fin){\n",
    "    \n",
    "    abiertos=[estado_ini]\n",
    "    cerrados=[]\n",
    "    \n",
    "    while(len(abiertos) != 0):\n",
    "        nodo_actual = extrae_prim(abiertos)\n",
    "        #poner nodo_actual en cerrado \n",
    "        if(es_estado_final(estado(nodo_actual)) == True):\n",
    "            print(camino(nodo_actual))\n",
    "        else:\n",
    "            sucesores(nodo_actual)\n",
    "            if(sucesor in cerrados):\n",
    "                #no se añade\n",
    "            elif(sucesor in abiertos):\n",
    "               #no se añade\n",
    "            else:\n",
    "                gestiona_cola_Avara(abiertos, sucesores)     \n",
    "}\n"
   ]
  },
  {
   "cell_type": "code",
   "execution_count": null,
   "metadata": {},
   "outputs": [],
   "source": []
  },
  {
   "cell_type": "code",
   "execution_count": null,
   "metadata": {},
   "outputs": [],
   "source": []
  },
  {
   "cell_type": "code",
   "execution_count": null,
   "metadata": {},
   "outputs": [],
   "source": [
    "#preprocesamos los datos de los escenarios para facilitar su uso\n",
    "lista_escenarios=[]\n",
    "with open('./bootybay.map.scen', 'r') as sc:  \n",
    "    linea = sc.readline()\n",
    "    while linea:\n",
    "        print(linea.strip())\n",
    "        lista_escenarios.append(linea.strip().split())\n",
    "        linea = sc.readline()"
   ]
  },
  {
   "cell_type": "code",
   "execution_count": null,
   "metadata": {},
   "outputs": [],
   "source": [
    "#cogemos todos los datos de los escenarios\n",
    "for i in range(len(lista_escenarios)-1): #el -1 es para quitar la ultima línea que está vacía\n",
    "    if(i>0):\n",
    "        print(\"Width: \", lista_escenarios[i][2])\n",
    "        print(\"Height: \", lista_escenarios[i][3])\n",
    "        print(\"Estado ini: \", lista_escenarios[i][4], lista_escenarios[i][5])\n",
    "        print(\"Estado fin: \", lista_escenarios[i][6], lista_escenarios[i][7])\n",
    "        print(\"Longitud óptima: \", lista_escenarios[i][8])\n",
    "        print(\"----------------------------------\")"
   ]
  },
  {
   "cell_type": "code",
   "execution_count": null,
   "metadata": {},
   "outputs": [],
   "source": []
  },
  {
   "cell_type": "code",
   "execution_count": null,
   "metadata": {
    "collapsed": true
   },
   "outputs": [],
   "source": []
  }
 ],
 "metadata": {
  "kernelspec": {
   "display_name": "Python 3",
   "language": "python",
   "name": "python3"
  },
  "language_info": {
   "codemirror_mode": {
    "name": "ipython",
    "version": 3
   },
   "file_extension": ".py",
   "mimetype": "text/x-python",
   "name": "python",
   "nbconvert_exporter": "python",
   "pygments_lexer": "ipython3",
   "version": "3.6.3"
  }
 },
 "nbformat": 4,
 "nbformat_minor": 2
}
