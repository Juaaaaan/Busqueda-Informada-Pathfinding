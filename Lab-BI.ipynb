{
 "cells": [
  {
   "cell_type": "code",
   "execution_count": null,
   "metadata": {
    "collapsed": true
   },
   "outputs": [],
   "source": [
    "#Librerías\n",
    "\n",
    "import numpy as np\n",
    "import pandas as pd\n",
    "from matplotlib import pyplot as plt\n",
    "from matplotlib import patches as patches"
   ]
  },
  {
   "cell_type": "code",
   "execution_count": null,
   "metadata": {
    "collapsed": true
   },
   "outputs": [],
   "source": [
    "#Definición de función heurística\n",
    "\n",
    "def heuristica(celda):\n",
    "    dx=abs(celda.x-goal.x)\n",
    "    dy=abs(celda.y-goal.y)\n",
    "    return D*(dx+dy)+(D2-2*D)*min(dx,dy)"
   ]
  },
  {
   "cell_type": "code",
   "execution_count": null,
   "metadata": {
    "collapsed": true
   },
   "outputs": [],
   "source": [
    "#Abrimos el archivo inicial\n",
    "mapa_inicial = open(\"./bootybay.map\",\"r\")\n",
    "print(mapa_inicial.read())"
   ]
  },
  {
   "cell_type": "code",
   "execution_count": null,
   "metadata": {
    "collapsed": true
   },
   "outputs": [],
   "source": [
    "#Cogemos SOLO el mapa\n",
    "with open(\"./bootybay.map\", 'r') as f,\\\n",
    "    open('test_output.txt', 'w+') as f2:\n",
    "    for lines in f:\n",
    "        if lines.startswith('@' or 'T' or'W' or'S'):\n",
    "            f2.write(lines)\n",
    "    f2.close()\n",
    "    \n",
    "with open('test_output.txt', 'r') as f2:\n",
    "    data = f2.read()\n",
    "    print(data)\n",
    "    f2.close()"
   ]
  },
  {
   "cell_type": "code",
   "execution_count": null,
   "metadata": {
    "collapsed": true
   },
   "outputs": [],
   "source": [
    "import time\n",
    "time.sleep(10)\n",
    "from time import sleep\n",
    "sleep(10)"
   ]
  },
  {
   "cell_type": "code",
   "execution_count": null,
   "metadata": {
    "collapsed": true
   },
   "outputs": [],
   "source": [
    "import tkinter as tk"
   ]
  },
  {
   "cell_type": "code",
   "execution_count": null,
   "metadata": {
    "collapsed": true
   },
   "outputs": [],
   "source": [
    "#Abrimos una ventana del tamaño del mapa y lo mostaramos \n",
    "root = tk.Tk()\n",
    "w = tk.Label(root, text=data, bg=\"red\")\n",
    "w.pack()\n",
    "root.mainloop()"
   ]
  },
  {
   "cell_type": "code",
   "execution_count": null,
   "metadata": {
    "collapsed": true
   },
   "outputs": [],
   "source": []
  },
  {
   "cell_type": "code",
   "execution_count": null,
   "metadata": {
    "collapsed": true
   },
   "outputs": [],
   "source": []
  },
  {
   "cell_type": "code",
   "execution_count": null,
   "metadata": {
    "collapsed": true
   },
   "outputs": [],
   "source": []
  },
  {
   "cell_type": "code",
   "execution_count": null,
   "metadata": {
    "collapsed": true
   },
   "outputs": [],
   "source": []
  },
  {
   "cell_type": "code",
   "execution_count": null,
   "metadata": {
    "collapsed": true
   },
   "outputs": [],
   "source": []
  },
  {
   "cell_type": "code",
   "execution_count": null,
   "metadata": {
    "collapsed": true
   },
   "outputs": [],
   "source": []
  },
  {
   "cell_type": "code",
   "execution_count": null,
   "metadata": {
    "collapsed": true
   },
   "outputs": [],
   "source": []
  },
  {
   "cell_type": "code",
   "execution_count": null,
   "metadata": {
    "collapsed": true
   },
   "outputs": [],
   "source": []
  },
  {
   "cell_type": "code",
   "execution_count": null,
   "metadata": {
    "collapsed": true
   },
   "outputs": [],
   "source": [
    "data = data.replace('[0,0,0]', '@')\n",
    "#data = data.replace('@', '[0,0,0]')\n",
    "data"
   ]
  },
  {
   "cell_type": "code",
   "execution_count": null,
   "metadata": {
    "collapsed": true,
    "scrolled": true
   },
   "outputs": [],
   "source": [
    "plt.imshow(data)\n",
    "\n",
    "plt.show()"
   ]
  },
  {
   "cell_type": "code",
   "execution_count": null,
   "metadata": {
    "collapsed": true
   },
   "outputs": [],
   "source": [
    "\"\"\"with open(\"C:/Users/xurxo/Desktop/IA-II/2018/test_output.txt\", 'r') as f:\n",
    "    Z = []\n",
    "    for lines in f:\n",
    "        if lines.startswith('@' or 'T' or'W' or'S'):\n",
    "            Z = Z.insert(i, lines)\n",
    "            \n",
    "print(Z)\"\"\"\n",
    "\n",
    "\n",
    "\n",
    "s = []\n",
    "f=open(\"C:/Users/xurxo/Desktop/IA-II/2018/test_output.txt\")\n",
    "for i in list(f.read()):\n",
    "    s.append(i)\n",
    "    print(s)"
   ]
  },
  {
   "cell_type": "code",
   "execution_count": null,
   "metadata": {
    "collapsed": true
   },
   "outputs": [],
   "source": [
    "Z = np.array(data)\n",
    "im = plt.imshow(Z, cmap='hot')\n",
    "plt.colorbar(im, orientation='horizontal')\n",
    "plt.show()"
   ]
  },
  {
   "cell_type": "code",
   "execution_count": null,
   "metadata": {
    "collapsed": true
   },
   "outputs": [],
   "source": [
    "# Función para pintar una matriz de valores como colores RGB\n",
    "def pintar_mapa(data):\n",
    "    fig = plt.figure()\n",
    "    \n",
    "    # Establece ejes\n",
    "    ax = fig.add_subplot(111, aspect='equal')\n",
    "    ax.set_xlim((0, 512))\n",
    "    ax.set_ylim((512, 0))\n",
    "\n",
    "    # Dibuja los rectángulos de color RGB\n",
    "    \n",
    "    ax.add_patch(patches.Rectangle((300, 300), 3,3, facecolor='black', edgecolor='black'))\n",
    "    \n",
    "    plt.show()\n",
    "\n",
    "    \n",
    "    \n",
    "    \n",
    "pintar_mapa(b)  \n",
    "#b = data.replace(\"0\",\"@\")\n",
    "#print(b)"
   ]
  },
  {
   "cell_type": "code",
   "execution_count": null,
   "metadata": {
    "collapsed": true,
    "scrolled": false
   },
   "outputs": [],
   "source": [
    "with open(\"C:/Users/xurxo/Desktop/IA-II/2018/bootybay.map\", 'r') as f,\\\n",
    "    open('test_output.txt', 'w+') as f2:\n",
    "    for lines in f:\n",
    "        if lines.startswith('@' or 'T' or'W' or'S'):\n",
    "            f2.write(lines)\n",
    "    f2.close()\n",
    "    \n",
    "with open('test_output.txt', 'r') as f2:\n",
    "    data = f2.read()\n",
    "    print(data)\n",
    "    f2.close()"
   ]
  },
  {
   "cell_type": "code",
   "execution_count": null,
   "metadata": {
    "collapsed": true
   },
   "outputs": [],
   "source": []
  },
  {
   "cell_type": "code",
   "execution_count": null,
   "metadata": {
    "collapsed": true
   },
   "outputs": [],
   "source": []
  },
  {
   "cell_type": "code",
   "execution_count": null,
   "metadata": {
    "collapsed": true
   },
   "outputs": [],
   "source": []
  },
  {
   "cell_type": "code",
   "execution_count": null,
   "metadata": {
    "collapsed": true
   },
   "outputs": [],
   "source": []
  },
  {
   "cell_type": "code",
   "execution_count": null,
   "metadata": {
    "collapsed": true
   },
   "outputs": [],
   "source": []
  },
  {
   "cell_type": "code",
   "execution_count": null,
   "metadata": {
    "collapsed": true
   },
   "outputs": [],
   "source": [
    "colors = dict(mcolors.BASE_COLORS, **mcolors.CSS4_COLORS)\n",
    "\n",
    "#Muros = negro\n",
    "#Agua = azul\n",
    "#Terreno = blanco\n",
    "#Árboles = verde\n",
    "#Pantáno = goldenrod\n",
    "colores = colors['black'], colors['blue'], colors['white'], colors['green'], colors['goldenrod']\n",
    "print(colores)"
   ]
  },
  {
   "cell_type": "code",
   "execution_count": null,
   "metadata": {
    "collapsed": true
   },
   "outputs": [],
   "source": [
    "#Funciones necesarias\n",
    "def extrae_prim(abiertos){\n",
    "    return abiertos[0]\n",
    "}\n",
    "\n",
    "#Cada nodo tiene que estar definido por: nodo[coord_x, coord_y, f(n), h(n), g(n)]\n",
    "def es_estado_final(nodo_actual){\n",
    "    estado=False\n",
    "    if(nodo_actual[0] == \"\"\"coodenada objetivo x \"\"\" and nodo_actual[1] == \"\"\"coodenada objetivo x \"\"\"):\n",
    "            estado=True\n",
    "    return estado\n",
    "}\n",
    "\n",
    "def camino(){\n",
    "    \n",
    "}\n",
    "\n",
    "def sucesores(){\n",
    "    \n",
    "}\n",
    "\n",
    "def gestiona_cola_Aestrella(){\n",
    "    \n",
    "}\n",
    "\n",
    "def gestiona_cola_Avara(abiertos, sucesores){\n",
    "    cola = abiertos.append(sucesores)\n",
    "    abiertos = sorted(sucesores, key=nodo[2]) #ordenamos los sucesores por orden ascendente de f(n)\n",
    "    return abiertos\n",
    "}"
   ]
  },
  {
   "cell_type": "code",
   "execution_count": null,
   "metadata": {
    "collapsed": true
   },
   "outputs": [],
   "source": [
    "#A*\n",
    "\n",
    "def Aestrella(estado_ini, estado_fin){\n",
    "    \n",
    "    abiertos=[estado_ini]\n",
    "    cerrados=[]\n",
    "    \n",
    "    while(len(abiertos) != 0):\n",
    "        nodo_actual = extrae_prim(abiertos)\n",
    "        #poner nodo_actual en cerrado \n",
    "        if(es_estado_final(nodo_actual) == True):\n",
    "            print(camino(nodo_actual))\n",
    "        else:\n",
    "            sucesores(nodo_actual)\n",
    "            if(sucesor in cerrados):\n",
    "                if(\"\"\"coste del sucesor es menor\"\"\"):\n",
    "                    #insertar ordenadamente actualizar coste y camino\n",
    "            elif(sucesor in abiertos):\n",
    "                if(\"\"\"coste del sucesor es menor\"\"\"):\n",
    "                    #insertar ordenadamente actualizar coste y camino\n",
    "            gestiona_cola_Aestrella(abiertos, sucesores)     \n",
    "}\n"
   ]
  },
  {
   "cell_type": "code",
   "execution_count": null,
   "metadata": {
    "collapsed": true
   },
   "outputs": [],
   "source": [
    "#Avara\n",
    "\n",
    "def Avara(estado_ini, estado_fin){\n",
    "    \n",
    "    abiertos=[estado_ini]\n",
    "    cerrados=[]\n",
    "    \n",
    "    while(len(abiertos) != 0):\n",
    "        nodo_actual = extrae_prim(abiertos)\n",
    "        #poner nodo_actual en cerrado \n",
    "        if(es_estado_final(estado(nodo_actual)) == True):\n",
    "            print(camino(nodo_actual))\n",
    "        else:\n",
    "            sucesores(nodo_actual)\n",
    "            if(sucesor in cerrados):\n",
    "                #no se añade\n",
    "            elif(sucesor in abiertos):\n",
    "               #no se añade\n",
    "            else:\n",
    "                gestiona_cola_Avara(abiertos, sucesores)     \n",
    "}\n"
   ]
  }
 ],
 "metadata": {
  "kernelspec": {
   "display_name": "Python 3",
   "language": "python",
   "name": "python3"
  },
  "language_info": {
   "codemirror_mode": {
    "name": "ipython",
    "version": 3
   },
   "file_extension": ".py",
   "mimetype": "text/x-python",
   "name": "python",
   "nbconvert_exporter": "python",
   "pygments_lexer": "ipython3",
   "version": "3.6.3"
  }
 },
 "nbformat": 4,
 "nbformat_minor": 2
}
