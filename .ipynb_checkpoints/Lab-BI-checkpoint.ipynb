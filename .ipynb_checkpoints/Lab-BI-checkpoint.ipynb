{
 "cells": [
  {
   "cell_type": "code",
   "execution_count": 2,
   "metadata": {},
   "outputs": [],
   "source": [
    "#Librerías\n",
    "\n",
    "import numpy as np\n",
    "import pandas as pd\n",
    "from matplotlib import pyplot as plt"
   ]
  },
  {
   "cell_type": "code",
   "execution_count": null,
   "metadata": {
    "collapsed": true
   },
   "outputs": [],
   "source": [
    "#Definición de función heurística\n",
    "\n",
    "def heuristica(celda):\n",
    "    dx=abs(celda.x-goal.x)\n",
    "    dy=abs(celda.y-goal.y)\n",
    "    return D*(dx+dy)+(D2-2*D)*min(dx,dy)"
   ]
  },
  {
   "cell_type": "code",
   "execution_count": null,
   "metadata": {
    "collapsed": true
   },
   "outputs": [],
   "source": [
    "#Abrimos el archivo inicial\n",
    "mapa_inicial = open(\"./bootybay.map\",\"r\")\n",
    "print(mapa_inicial.read())"
   ]
  },
  {
   "cell_type": "code",
   "execution_count": null,
   "metadata": {
    "collapsed": true
   },
   "outputs": [],
   "source": [
    "#Cogemos SOLO el mapa\n",
    "with open(\"./bootybay.map\", 'r') as f,\\\n",
    "    open('test_output.txt', 'w+') as f2:\n",
    "    for lines in f:\n",
    "        if lines.startswith('@' or 'T' or'W' or'S'):\n",
    "            f2.write(lines)\n",
    "    f2.close()\n",
    "    \n",
    "with open('test_output.txt', 'r') as f2:\n",
    "    data = f2.read()\n",
    "    print(data)\n",
    "    f2.close()"
   ]
  },
  {
   "cell_type": "code",
   "execution_count": null,
   "metadata": {
    "collapsed": true
   },
   "outputs": [],
   "source": [
    "#Pintamos el mapa\n",
    "#Paleta de colores\n",
    "palette = np.array([[149,95,32], # . Terreno 0\n",
    "                    [149,95,32], # G Terreno 1\n",
    "                    [0,0,0], # @ Muro    2\n",
    "                    [0,0,0], # 0 Muro    3\n",
    "                    [15,126,18], # T arboles 4\n",
    "                    [85,35,100], # S pantano 5\n",
    "                    [11,36,250], # W agua    6\n",
    "                    ], dtype=np.uint8)\n",
    "mapFile = open('./bootybay.map','r').read().split()\n",
    "mapa = np.array(mapFile)\n",
    "height = int(mapa[3])\n",
    "width = int(mapa[5])\n",
    "mapa = mapa[7:][:]\n",
    "#print(mapa)\n",
    "#Hacemos una matriz de ceros\n",
    "mapa2 = np.zeros((512,512))\n",
    "for i in range(0,512):\n",
    "    for j in range(0,512):\n",
    "        if mapa[i][j] == \".\" or mapa[i][j] == \"G\":\n",
    "            mapa2[i][j] = 1\n",
    "        elif mapa[i][j] == \"@\" or mapa[i][j] == \"O\":\n",
    "            mapa2[i][j] = 2\n",
    "        elif mapa[i][j] == \"T\":\n",
    "            mapa2[i][j] = 4\n",
    "        elif mapa[i][j] == \"S\":\n",
    "            mapa2[i][j] = 5\n",
    "        elif mapa[i][j] == \"W\":\n",
    "            mapa2[i][j] = 6\n",
    "\n",
    "\n",
    "mapa2=mapa2.astype(int)\n",
    "plt.imshow(palette[mapa2])\n",
    "plt.show()"
   ]
  },
  {
   "cell_type": "code",
   "execution_count": 20,
   "metadata": {},
   "outputs": [
    {
     "data": {
      "image/png": "[encoded data removed]",
      "text/plain": [
       "<matplotlib.figure.Figure at 0x198332f07b8>"
      ]
     },
     "metadata": {},
     "output_type": "display_data"
    }
   ],
   "source": []
  },
  {
   "cell_type": "code",
   "execution_count": null,
   "metadata": {
    "collapsed": true
   },
   "outputs": [],
   "source": [
    "colors = dict(mcolors.BASE_COLORS, **mcolors.CSS4_COLORS)\n",
    "\n",
    "#Muros = negro\n",
    "#Agua = azul\n",
    "#Terreno = blanco\n",
    "#Árboles = verde\n",
    "#Pantáno = goldenrod\n",
    "colores = colors['black'], colors['blue'], colors['white'], colors['green'], colors['goldenrod']\n",
    "print(colores)"
   ]
  },
  {
   "cell_type": "code",
   "execution_count": null,
   "metadata": {
    "collapsed": true
   },
   "outputs": [],
   "source": [
    "#Funciones necesarias\n",
    "def extrae_prim(abiertos){\n",
    "    return abiertos[0]\n",
    "}\n",
    "\n",
    "#Cada nodo tiene que estar definido por: nodo[coord_x, coord_y, f(n), h(n), g(n)]\n",
    "def es_estado_final(nodo_actual){\n",
    "    estado=False\n",
    "    if(nodo_actual[0] == \"\"\"coodenada objetivo x \"\"\" and nodo_actual[1] == \"\"\"coodenada objetivo x \"\"\"):\n",
    "            estado=True\n",
    "    return estado\n",
    "}\n",
    "\n",
    "def camino(){\n",
    "    \n",
    "}\n",
    "\n",
    "def sucesores(){\n",
    "    \n",
    "}\n",
    "\n",
    "def gestiona_cola_Aestrella(){\n",
    "    \n",
    "}\n",
    "\n",
    "def gestiona_cola_Avara(abiertos, sucesores){\n",
    "    cola = abiertos.append(sucesores)\n",
    "    abiertos = sorted(sucesores, key=nodo[2]) #ordenamos los sucesores por orden ascendente de f(n)\n",
    "    return abiertos\n",
    "}"
   ]
  },
  {
   "cell_type": "code",
   "execution_count": null,
   "metadata": {
    "collapsed": true
   },
   "outputs": [],
   "source": [
    "#A*\n",
    "\n",
    "def Aestrella(estado_ini, estado_fin){\n",
    "    \n",
    "    abiertos=[estado_ini]\n",
    "    cerrados=[]\n",
    "    \n",
    "    while(len(abiertos) != 0):\n",
    "        nodo_actual = extrae_prim(abiertos)\n",
    "        #poner nodo_actual en cerrado \n",
    "        if(es_estado_final(nodo_actual) == True):\n",
    "            print(camino(nodo_actual))\n",
    "        else:\n",
    "            sucesores(nodo_actual)\n",
    "            if(sucesor in cerrados):\n",
    "                if(\"\"\"coste del sucesor es menor\"\"\"):\n",
    "                    #insertar ordenadamente actualizar coste y camino\n",
    "            elif(sucesor in abiertos):\n",
    "                if(\"\"\"coste del sucesor es menor\"\"\"):\n",
    "                    #insertar ordenadamente actualizar coste y camino\n",
    "            gestiona_cola_Aestrella(abiertos, sucesores)     \n",
    "}\n"
   ]
  },
  {
   "cell_type": "code",
   "execution_count": null,
   "metadata": {
    "collapsed": true
   },
   "outputs": [],
   "source": [
    "#Avara\n",
    "\n",
    "def Avara(estado_ini, estado_fin){\n",
    "    \n",
    "    abiertos=[estado_ini]\n",
    "    cerrados=[]\n",
    "    \n",
    "    while(len(abiertos) != 0):\n",
    "        nodo_actual = extrae_prim(abiertos)\n",
    "        #poner nodo_actual en cerrado \n",
    "        if(es_estado_final(estado(nodo_actual)) == True):\n",
    "            print(camino(nodo_actual))\n",
    "        else:\n",
    "            sucesores(nodo_actual)\n",
    "            if(sucesor in cerrados):\n",
    "                #no se añade\n",
    "            elif(sucesor in abiertos):\n",
    "               #no se añade\n",
    "            else:\n",
    "                gestiona_cola_Avara(abiertos, sucesores)     \n",
    "}\n"
   ]
  }
 ],
 "metadata": {
  "kernelspec": {
   "display_name": "Python 3",
   "language": "python",
   "name": "python3"
  },
  "language_info": {
   "codemirror_mode": {
    "name": "ipython",
    "version": 3
   },
   "file_extension": ".py",
   "mimetype": "text/x-python",
   "name": "python",
   "nbconvert_exporter": "python",
   "pygments_lexer": "ipython3",
   "version": "3.6.3"
  }
 },
 "nbformat": 4,
 "nbformat_minor": 2
}
