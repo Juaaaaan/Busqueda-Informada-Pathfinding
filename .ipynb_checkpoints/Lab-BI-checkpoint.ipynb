{
 "cells": [
  {
   "cell_type": "code",
   "execution_count": 71,
   "metadata": {},
   "outputs": [
    {
     "ename": "ModuleNotFoundError",
     "evalue": "No module named 'implementation'",
     "output_type": "error",
     "traceback": [
      "\u001b[1;31m---------------------------------------------------------------------------\u001b[0m",
      "\u001b[1;31mModuleNotFoundError\u001b[0m                       Traceback (most recent call last)",
      "\u001b[1;32m<ipython-input-71-15a4f4de591a>\u001b[0m in \u001b[0;36m<module>\u001b[1;34m\u001b[0m\n\u001b[0;32m      4\u001b[0m \u001b[1;32mimport\u001b[0m \u001b[0mpandas\u001b[0m \u001b[1;32mas\u001b[0m \u001b[0mpd\u001b[0m\u001b[1;33m\u001b[0m\u001b[0m\n\u001b[0;32m      5\u001b[0m \u001b[1;32mimport\u001b[0m \u001b[0mheapq\u001b[0m \u001b[1;32mas\u001b[0m \u001b[0mhe\u001b[0m\u001b[1;33m\u001b[0m\u001b[0m\n\u001b[1;32m----> 6\u001b[1;33m \u001b[1;32mfrom\u001b[0m \u001b[0mimplementation\u001b[0m \u001b[1;32mimport\u001b[0m \u001b[1;33m*\u001b[0m\u001b[1;33m\u001b[0m\u001b[0m\n\u001b[0m\u001b[0;32m      7\u001b[0m \u001b[1;32mfrom\u001b[0m \u001b[0mmatplotlib\u001b[0m \u001b[1;32mimport\u001b[0m \u001b[0mpyplot\u001b[0m \u001b[1;32mas\u001b[0m \u001b[0mplt\u001b[0m\u001b[1;33m\u001b[0m\u001b[0m\n",
      "\u001b[1;31mModuleNotFoundError\u001b[0m: No module named 'implementation'"
     ]
    }
   ],
   "source": [
    "#Librerías\n",
    "\n",
    "import numpy as np\n",
    "import pandas as pd\n",
    "import heapq as he\n",
    "from matplotlib import pyplot as plt"
   ]
  },
  {
   "cell_type": "code",
   "execution_count": null,
   "metadata": {
    "collapsed": true
   },
   "outputs": [],
   "source": [
    "#Definición de función heurística\n",
    "\n",
    "def heuristica(celda):\n",
    "    dx=abs(celda.x-goal.x)\n",
    "    #celda.x = \n",
    "    #goal.x = datos_entrada[3][0]\n",
    "    dy=abs(celda.y-goal.y)\n",
    "    #goal.y = datos_entrada[3][1]\n",
    "    return D*(dx+dy)+(D2-2*D)*min(dx,dy)"
   ]
  },
  {
   "cell_type": "code",
   "execution_count": 27,
   "metadata": {},
   "outputs": [
    {
     "data": {
      "image/png": "[encoded data removed]",
      "text/plain": [
       "<matplotlib.figure.Figure at 0x161e0e38ef0>"
      ]
     },
     "metadata": {},
     "output_type": "display_data"
    }
   ],
   "source": [
    "#Pintamos el mapa\n",
    "    #Lo primero que hacemos es definir una paleta de colores (acorde a las indicaciones del enunciado)\n",
    "    #coloresPaleta es un array de colores en formato RGB donde \"intuitivamente\" asignamos un color a cada\n",
    "    #superficie, siendo superficie: agua, muro, pantano, arboles, terreno y muro. \n",
    "#Paleta de colores\n",
    "                             #Terreno       Terreno      Muro   Muro    Árboles     Pantano     Agua\n",
    "coloresPaleta = np.array([[255,255,255],[255,255,255],[0,0,0],[0,0,0],[4,132,0],[11,239,197],[17,0,255]],\n",
    "                         dtype=np.uint8)\n",
    "\n",
    "#Cargamos el mapa\n",
    "nuestroMapa= open('./bootybay.map','r').read().split()\n",
    "#Usamos un .split() porque tenemos que dividir nuestro \".map\" en cadenas más pequeñas para que posteriormente\n",
    "#agregue los datos a una matriz de cadenas usando un separador (split) que en este caso es una \",\", porque no\n",
    "#se ha definido ninguno previamente.\n",
    "\n",
    "#Metemos el mapa en un array\n",
    "arrayMapa = np.array(nuestroMapa) \n",
    "#Esto es para que luego podamos concatenar la paleta de colores con nuestro mapa una vez mapeados los datos\n",
    "\n",
    "#Definimos el tamaño de nuestro mapa, 512x512 (alto por ancho)\n",
    "    #Leyendo nuestro arrayMapa (verdaderamente es el .map cargado en un array), podemos acceder a las posiciones\n",
    "    #es decir, al escribir arrayMapa[1], sería igual a 'octile', como ya nos viene definido el tamaño del mapa\n",
    "    #en el .map, o bien definimos las variables altura y anchura con la posicion respectiva a 512 en el array\n",
    "    #o como si fuese una variable normal, nos daría lo mismo\n",
    "height = int(arrayMapa[3])\n",
    "    #height = 512\n",
    "    #print(arrayMapa[3])\n",
    "width = int(arrayMapa[5])\n",
    "    #width = 512\n",
    "    #print(arrayMapa[5])\n",
    "\n",
    "#\n",
    "matriz_split = arrayMapa[7:][:]\n",
    "#¿7? -> eso es porque comienza nuestro primer \"@\". Descartamos de la posición 0 a la 6.\n",
    "#print(matriz_split)\n",
    "\n",
    "\n",
    "#Hacemos una matriz de ceros\n",
    "matriz_ceros_valor = np.zeros((height,width)) \n",
    "#matriz generica porque lo cambiaremos por una serie de valores que se corresponden con cada uno de los caracteres\n",
    "\n",
    "#Vamos leyendo cada posición le asignamos un valor de tal forma que en vez de quedar con caracteres, quedará con\n",
    "#numeros y podremos concatenar las posiciones de la paleta de colores con la matriz que tenemos\n",
    "for i in range(0, height):\n",
    "    for j in range(0, width):\n",
    "        if matriz_split[i][j] == \".\" or matriz_split[i][j] == \"G\":\n",
    "            matriz_ceros_valor[i][j] = 1\n",
    "        elif matriz_split[i][j] == \"@\" or matriz_split[i][j] == \"O\":\n",
    "            matriz_ceros_valor[i][j] = 2\n",
    "        elif matriz_split[i][j] == \"T\":\n",
    "            matriz_ceros_valor[i][j] = 4\n",
    "        elif matriz_split[i][j] == \"S\":\n",
    "            matriz_ceros_valor[i][j] = 5\n",
    "        elif matriz_split[i][j] == \"W\":\n",
    "            matriz_ceros_valor[i][j] = 6\n",
    "            \n",
    "mapa_colores=matriz_ceros_valor.astype(int)\n",
    "plt.imshow(coloresPaleta[mapa_colores])\n",
    "plt.show()"
   ]
  },
  {
   "cell_type": "code",
   "execution_count": 80,
   "metadata": {
    "collapsed": true
   },
   "outputs": [],
   "source": [
    "#Funciones necesarias\n",
    "\n",
    "#Extrae el primero de abiertos\n",
    "def extrae_prim(abiertos):\n",
    "    return abiertos[0]\n",
    "\n",
    "\n",
    "#Cada nodo tiene que estar definido por: nodo[coord_x, coord_y, f(n), h(n), g(n)]\n",
    "def es_estado_final(nodo_actual):\n",
    "    estado=False\n",
    "    if(nodo_actual[0] == \"\"\"coodenada objetivo x \"\"\" and nodo_actual[1] == \"\"\"coodenada objetivo x \"\"\"):\n",
    "            estado=True\n",
    "    return estado\n",
    "\n",
    "\n",
    "def camino():\n",
    "    \n",
    "    return\n",
    "\n",
    "#orden operadores: arriba, derecha, abajo, izquierda\n",
    "def sucesores(nodo_actual):\n",
    "    if(nodo_actual[0] >= 1):                           # puede ir hacia arriba\n",
    "        sucesor = (nodo_actual[0]-1, nodo_actual[1])\n",
    "    elif(nodo_actual[1] < llamarEscenarios[0]):        # puede ir hacia la derecha   \n",
    "        sucesor = (nodo_actual[0], nodo_actual[1]+1)\n",
    "    elif(nodo_actual[0] < llamarEscenarios[1]):       # puede ir hacia abajo \n",
    "        sucesor = (nodo_actual[0]+1, nodo_actual[1])\n",
    "    elif(nodo_actual[1] >= 1):                         # puede ir hacia la izquierda\n",
    "        sucesor = (nodo_actual[0], nodo_actual[1]-1)\n",
    "    return sucesor\n",
    "\n",
    "def gestiona_cola_Aestrella():\n",
    "    \n",
    "    return\n",
    "\n",
    "def gestiona_cola_Avara(abiertos, sucesores):\n",
    "    cola = abiertos.append(sucesores)\n",
    "    abiertos = sorted(sucesores, key=nodo[2]) #ordenamos los sucesores por orden ascendente de f(n)\n",
    "    return abiertos\n"
   ]
  },
  {
   "cell_type": "code",
   "execution_count": null,
   "metadata": {
    "collapsed": true
   },
   "outputs": [],
   "source": [
    "#A*\n",
    "\n",
    "def Aestrella(estado_ini, estado_fin):\n",
    "    \n",
    "    abiertos=[estado_ini]\n",
    "    cerrados=[]\n",
    "    \n",
    "    while(len(abiertos) != 0):\n",
    "        nodo_actual = extrae_prim(abiertos)\n",
    "        #poner nodo_actual en cerrado \n",
    "        if(es_estado_final(nodo_actual) == True):\n",
    "            print(camino(nodo_actual))\n",
    "        else:\n",
    "            sucesores(nodo_actual)\n",
    "            if(sucesor in cerrados):\n",
    "                if(\"\"\"coste del sucesor es menor\"\"\"):\n",
    "                    #insertar ordenadamente actualizar coste y camino\n",
    "                    print(\"control\")\n",
    "            else:\n",
    "                if(sucesor in abiertos):\n",
    "                    if(\"\"\"coste del sucesor es menor\"\"\"):\n",
    "                    #insertar ordenadamente actualizar coste y camino\n",
    "                        print(\"control\")\n",
    "            gestiona_cola_Aestrella(abiertos, sucesores)     \n"
   ]
  },
  {
   "cell_type": "code",
   "execution_count": 4,
   "metadata": {
    "collapsed": true
   },
   "outputs": [],
   "source": [
    "#Avara\n",
    "\n",
    "def Avara(estado_ini, estado_fin):\n",
    "    \n",
    "    estado_ini = datos_entrada[2]\n",
    "    \n",
    "    abiertos=[estado_ini]\n",
    "    cerrados=[]\n",
    "    \n",
    "    while(len(abiertos) != 0):\n",
    "        nodo_actual = extrae_prim(abiertos)\n",
    "        cerrados.append(nodo_actual)\n",
    "        if(es_estado_final(nodo_actual) == True):\n",
    "            print(camino(nodo_actual))\n",
    "        else:\n",
    "            sucesores(nodo_actual)\n",
    "            if(sucesor in cerrados):\n",
    "                print(\"no se añade el sucesor: \", sucesor)\n",
    "            elif(sucesor in abiertos):\n",
    "                print(\"no se añade el sucesor: \", sucesor)\n",
    "            gestiona_cola_Avara(abiertos, sucesores)     \n"
   ]
  },
  {
   "cell_type": "code",
   "execution_count": 8,
   "metadata": {},
   "outputs": [
    {
     "name": "stdout",
     "output_type": "stream",
     "text": [
      "version 1\n",
      "0\tbootybay.map\t512\t512\t263\t268\t265\t270\t2.82842712\n",
      "0\tbootybay.map\t512\t512\t319\t399\t321\t397\t2.82842712\n",
      "0\tbootybay.map\t512\t512\t240\t231\t241\t230\t1.41421356\n",
      "0\tbootybay.map\t512\t512\t288\t260\t285\t259\t3.41421356\n",
      "0\tbootybay.map\t512\t512\t275\t254\t278\t254\t3.00000000\n",
      "0\tbootybay.map\t512\t512\t396\t194\t396\t192\t2.00000000\n",
      "0\tbootybay.map\t512\t512\t439\t180\t441\t180\t2.00000000\n",
      "0\tbootybay.map\t512\t512\t403\t141\t402\t142\t1.41421356\n",
      "0\tbootybay.map\t512\t512\t275\t243\t276\t243\t1.00000000\n",
      "0\tbootybay.map\t512\t512\t274\t388\t272\t390\t2.82842712\n",
      "1\tbootybay.map\t512\t512\t216\t348\t212\t344\t5.65685425\n",
      "1\tbootybay.map\t512\t512\t296\t302\t299\t296\t7.24264069\n",
      "1\tbootybay.map\t512\t512\t274\t421\t275\t416\t5.41421356\n",
      "1\tbootybay.map\t512\t512\t92\t139\t90\t144\t5.82842712\n",
      "1\tbootybay.map\t512\t512\t251\t356\t248\t353\t4.24264069\n",
      "1\tbootybay.map\t512\t512\t395\t185\t401\t184\t6.41421356\n",
      "1\tbootybay.map\t512\t512\t351\t249\t356\t249\t5.00000000\n",
      "1\tbootybay.map\t512\t512\t401\t231\t396\t230\t5.41421356\n",
      "1\tbootybay.map\t512\t512\t444\t334\t449\t336\t5.82842712\n",
      "1\tbootybay.map\t512\t512\t88\t179\t92\t181\t4.82842712\n",
      "2\tbootybay.map\t512\t512\t140\t380\t140\t372\t8.00000000\n",
      "2\tbootybay.map\t512\t512\t91\t264\t89\t272\t8.82842712\n",
      "2\tbootybay.map\t512\t512\t144\t290\t153\t289\t9.41421356\n",
      "2\tbootybay.map\t512\t512\t335\t276\t338\t284\t9.24264069\n",
      "2\tbootybay.map\t512\t512\t357\t288\t360\t279\t10.24264069\n",
      "2\tbootybay.map\t512\t512\t428\t143\t436\t151\t11.31370850\n",
      "2\tbootybay.map\t512\t512\t89\t228\t80\t235\t11.89949493\n",
      "2\tbootybay.map\t512\t512\t300\t275\t308\t274\t8.41421356\n",
      "2\tbootybay.map\t512\t512\t113\t166\t119\t172\t8.48528137\n",
      "2\tbootybay.map\t512\t512\t174\t379\t173\t389\t10.41421356\n",
      "3\tbootybay.map\t512\t512\t285\t411\t281\t398\t14.65685425\n",
      "3\tbootybay.map\t512\t512\t460\t324\t459\t339\t15.41421356\n",
      "3\tbootybay.map\t512\t512\t201\t405\t190\t411\t13.48528137\n",
      "3\tbootybay.map\t512\t512\t77\t196\t83\t186\t12.48528137\n",
      "3\tbootybay.map\t512\t512\t171\t309\t181\t302\t12.89949493\n",
      "3\tbootybay.map\t512\t512\t64\t182\t74\t173\t14.89949493\n",
      "3\tbootybay.map\t512\t512\t228\t402\t234\t392\t12.48528137\n",
      "3\tbootybay.map\t512\t512\t369\t387\t380\t376\t15.55634918\n",
      "3\tbootybay.map\t512\t512\t419\t151\t425\t139\t14.48528137\n",
      "3\tbootybay.map\t512\t512\t59\t383\t72\t378\t15.07106781\n",
      "4\tbootybay.map\t512\t512\t305\t406\t303\t387\t19.82842712\n",
      "4\tbootybay.map\t512\t512\t386\t391\t385\t375\t16.41421356\n",
      "4\tbootybay.map\t512\t512\t460\t241\t465\t257\t18.07106781\n",
      "4\tbootybay.map\t512\t512\t416\t391\t419\t407\t17.24264069\n",
      "4\tbootybay.map\t512\t512\t218\t367\t199\t369\t19.82842712\n",
      "4\tbootybay.map\t512\t512\t139\t381\t124\t386\t17.07106781\n",
      "4\tbootybay.map\t512\t512\t82\t260\t84\t279\t19.82842712\n",
      "4\tbootybay.map\t512\t512\t70\t288\t73\t306\t19.24264069\n",
      "4\tbootybay.map\t512\t512\t173\t290\t176\t307\t18.24264069\n",
      "4\tbootybay.map\t512\t512\t70\t286\t54\t284\t16.82842712\n",
      "5\tbootybay.map\t512\t512\t455\t389\t435\t385\t21.65685425\n",
      "5\tbootybay.map\t512\t512\t359\t257\t366\t278\t23.89949493\n",
      "5\tbootybay.map\t512\t512\t361\t293\t351\t309\t20.14213562\n",
      "5\tbootybay.map\t512\t512\t138\t434\t128\t434\t21.89949493\n",
      "5\tbootybay.map\t512\t512\t407\t421\t414\t402\t21.89949493\n",
      "5\tbootybay.map\t512\t512\t224\t283\t207\t298\t23.21320343\n",
      "5\tbootybay.map\t512\t512\t153\t288\t157\t310\t23.65685425\n",
      "5\tbootybay.map\t512\t512\t434\t173\t444\t157\t20.14213562\n",
      "5\tbootybay.map\t512\t512\t410\t132\t413\t151\t20.24264069\n",
      "5\tbootybay.map\t512\t512\t299\t392\t286\t407\t20.38477631\n",
      "6\tbootybay.map\t512\t512\t310\t381\t333\t369\t27.97056274\n",
      "6\tbootybay.map\t512\t512\t404\t382\t429\t388\t27.48528137\n",
      "6\tbootybay.map\t512\t512\t76\t255\t67\t279\t27.72792206\n",
      "6\tbootybay.map\t512\t512\t274\t395\t274\t419\t24.00000000\n",
      "6\tbootybay.map\t512\t512\t226\t369\t214\t349\t24.97056274\n",
      "6\tbootybay.map\t512\t512\t350\t381\t361\t402\t25.55634918\n",
      "6\tbootybay.map\t512\t512\t144\t425\t119\t428\t26.24264069\n",
      "6\tbootybay.map\t512\t512\t434\t419\t437\t442\t24.24264069\n",
      "6\tbootybay.map\t512\t512\t342\t382\t366\t378\t25.65685425\n",
      "6\tbootybay.map\t512\t512\t198\t408\t220\t398\t26.14213562\n",
      "7\tbootybay.map\t512\t512\t210\t352\t225\t335\t31.41421356\n",
      "7\tbootybay.map\t512\t512\t308\t377\t334\t365\t30.97056274\n",
      "7\tbootybay.map\t512\t512\t464\t343\t438\t332\t30.55634918\n",
      "7\tbootybay.map\t512\t512\t254\t228\t270\t250\t28.62741699\n",
      "7\tbootybay.map\t512\t512\t223\t373\t227\t345\t29.65685425\n",
      "7\tbootybay.map\t512\t512\t170\t384\t185\t406\t28.21320343\n",
      "7\tbootybay.map\t512\t512\t254\t383\t252\t411\t28.82842712\n",
      "7\tbootybay.map\t512\t512\t262\t381\t260\t353\t28.82842712\n",
      "7\tbootybay.map\t512\t512\t152\t389\t129\t409\t31.28427124\n",
      "7\tbootybay.map\t512\t512\t354\t406\t353\t375\t31.41421356\n",
      "8\tbootybay.map\t512\t512\t245\t242\t247\t274\t32.82842712\n",
      "8\tbootybay.map\t512\t512\t423\t199\t456\t203\t34.65685425\n",
      "8\tbootybay.map\t512\t512\t307\t336\t296\t365\t34.14213562\n",
      "8\tbootybay.map\t512\t512\t324\t352\t304\t326\t34.28427124\n",
      "8\tbootybay.map\t512\t512\t82\t335\t63\t307\t35.87005768\n",
      "8\tbootybay.map\t512\t512\t447\t272\t437\t242\t34.14213562\n",
      "8\tbootybay.map\t512\t512\t109\t205\t116\t236\t33.89949493\n",
      "8\tbootybay.map\t512\t512\t393\t244\t426\t238\t35.48528137\n",
      "8\tbootybay.map\t512\t512\t423\t148\t428\t179\t33.07106781\n",
      "8\tbootybay.map\t512\t512\t58\t246\t87\t256\t33.14213562\n",
      "9\tbootybay.map\t512\t512\t411\t230\t424\t262\t37.38477631\n",
      "9\tbootybay.map\t512\t512\t145\t431\t108\t426\t39.07106781\n",
      "9\tbootybay.map\t512\t512\t131\t364\t96\t375\t39.55634918\n",
      "9\tbootybay.map\t512\t512\t469\t292\t441\t271\t36.69848480\n",
      "9\tbootybay.map\t512\t512\t194\t384\t162\t366\t39.45584412\n",
      "9\tbootybay.map\t512\t512\t403\t172\t410\t208\t38.89949493\n",
      "9\tbootybay.map\t512\t512\t417\t426\t416\t387\t39.41421356\n",
      "9\tbootybay.map\t512\t512\t217\t342\t217\t304\t38.00000000\n",
      "9\tbootybay.map\t512\t512\t378\t398\t407\t420\t38.69848480\n",
      "9\tbootybay.map\t512\t512\t243\t384\t278\t376\t38.31370850\n",
      "\n"
     ]
    }
   ],
   "source": [
    "#preprocesamos los datos de los escenarios para facilitar su uso\n",
    "lista_escenarios=[]\n",
    "with open('./bootybay.map.scen', 'r') as sc:  \n",
    "    linea = sc.readline()\n",
    "    while linea:\n",
    "        print(linea.strip())\n",
    "        lista_escenarios.append(linea.strip().split())\n",
    "        linea = sc.readline()"
   ]
  },
  {
   "cell_type": "code",
   "execution_count": 9,
   "metadata": {
    "collapsed": true
   },
   "outputs": [],
   "source": [
    "#cogemos todos los datos de los escenarios\n",
    "def llamarEscenarios(lista_escenarios):\n",
    "    for i in range(len(lista_escenarios)-1): #el -1 es para quitar la ultima línea que está vacía\n",
    "        if(i>0):\n",
    "            ancho = int(lista_escenarios[i][2])\n",
    "            alto = int(lista_escenarios[i][3])\n",
    "            est_ini = (int(lista_escenarios[i][4]), int(lista_escenarios[i][5]))\n",
    "            est_fin = (int(lista_escenarios[i][6]), int(lista_escenarios[i][7]))\n",
    "            L_opt = float(lista_escenarios[i][8])\n",
    "    return ancho, alto, est_ini, est_fin, L_opt"
   ]
  },
  {
   "cell_type": "code",
   "execution_count": 10,
   "metadata": {},
   "outputs": [
    {
     "data": {
      "text/plain": [
       "(512, 512, (243, 384), (278, 376), 38.3137085)"
      ]
     },
     "execution_count": 10,
     "metadata": {},
     "output_type": "execute_result"
    }
   ],
   "source": [
    "llamarEscenarios(lista_escenarios)"
   ]
  },
  {
   "cell_type": "code",
   "execution_count": 72,
   "metadata": {},
   "outputs": [],
   "source": [
    "#MAIN\n",
    "\n",
    "datos_entrada = llamarEscenarios(lista_escenarios)\n",
    "\n",
    "#Avara(datos_entrada[2],datos_entrada[3])"
   ]
  },
  {
   "cell_type": "code",
   "execution_count": 61,
   "metadata": {
    "collapsed": true
   },
   "outputs": [],
   "source": [
    "def draw_tile(mapa_colores, id, style, width):\n",
    "    r = \".\"\n",
    "    if 'number' in style and id in style['number']: r = \"%d\" % style['number'][id]\n",
    "    if 'point_to' in style and style['point_to'].get(id, None) is not None:\n",
    "        (x1, y1) = id\n",
    "        (x2, y2) = style['point_to'][id]\n",
    "        if x2 == x1 + 1: r = \">\"\n",
    "        if x2 == x1 - 1: r = \"<\"\n",
    "        if y2 == y1 + 1: r = \"v\"\n",
    "        if y2 == y1 - 1: r = \"^\"\n",
    "    if 'empieza' in style and id == style['empieza']: r = \"A\"\n",
    "    if 'termina' in style and id == style['termina']: r = \"Z\"\n",
    "    if 'path' in style and id in style['path']: r = \"@\"\n",
    "    if id in graph.walls: r = \"#\" * width\n",
    "    return r"
   ]
  },
  {
   "cell_type": "code",
   "execution_count": 62,
   "metadata": {
    "collapsed": true
   },
   "outputs": [],
   "source": [
    "def draw_grid(mapa_colores, width=2, **style):\n",
    "    for y in range(512):\n",
    "        for x in range(512):\n",
    "            print(\"%%-%ds\" % width % draw_tile(mapa_colores, (x, y), style, width), end=\"\")\n",
    "        print()"
   ]
  },
  {
   "cell_type": "code",
   "execution_count": 63,
   "metadata": {
    "collapsed": true
   },
   "outputs": [],
   "source": [
    "#Cola de prioridad\n",
    "class PriorityQueue:\n",
    "    def __init__(self):\n",
    "        self.elements = []\n",
    "    \n",
    "    def empty(self):\n",
    "        return len(self.elements) == 0\n",
    "    \n",
    "    def put(self, item, priority):\n",
    "        he.heappush(self.elements, (priority, item))\n",
    "    \n",
    "    def get(self):\n",
    "        return he.heappop(self.elements)[1]"
   ]
  },
  {
   "cell_type": "code",
   "execution_count": 64,
   "metadata": {
    "collapsed": true
   },
   "outputs": [],
   "source": [
    "def neighbors(self, id):\n",
    "    x = datos_entrada[2][0]\n",
    "    y = datos_entrada[2][1]\n",
    "    (x, y) = id\n",
    "    results = [(x+1, y), (x, y-1), (x-1, y), (x, y+1)]\n",
    "    if (x + y) % 2 == 0: results.reverse() # aesthetics\n",
    "    results = filter(self.in_bounds, results)\n",
    "    results = filter(self.passable, results)\n",
    "    return results"
   ]
  },
  {
   "cell_type": "code",
   "execution_count": 65,
   "metadata": {
    "collapsed": true
   },
   "outputs": [],
   "source": [
    "def reconstruct_path(came_from, est_ini, est_fin):\n",
    "    current = est_fin\n",
    "    path = []\n",
    "    while current != est_ini:\n",
    "        path.append(current)\n",
    "        current = came_from[current]\n",
    "    path.append(est_ini) # optional\n",
    "    path.reverse() # optional\n",
    "    return path"
   ]
  },
  {
   "cell_type": "code",
   "execution_count": 87,
   "metadata": {},
   "outputs": [],
   "source": [
    "def aEstrella(mapa_colores, est_ini, est_fin):\n",
    "    abierto = PriorityQueue()\n",
    "    abierto.put(est_ini, 0)\n",
    "    came_from = {}\n",
    "    cost_so_far = {}\n",
    "    came_from[est_ini] = None\n",
    "    cost_so_far[est_ini] = 0\n",
    "    \n",
    "    while not abierto.empty():\n",
    "        current = abierto.get()\n",
    "        \n",
    "        if current == est_fin:\n",
    "            break\n",
    "        \n",
    "        for next in sucesores(current):\n",
    "            new_cost = cost_so_far[current] + sucesores.cost(current, next)\n",
    "            if next not in cost_so_far or new_cost < cost_so_far[next]:\n",
    "                cost_so_far[next] = new_cost\n",
    "                priority = new_cost + heuristica(est_fin, next)\n",
    "                abierto.put(next, priority)\n",
    "                came_from[next] = current\n",
    "    \n",
    "    return came_from, cost_so_far"
   ]
  },
  {
   "cell_type": "code",
   "execution_count": 88,
   "metadata": {},
   "outputs": [
    {
     "ename": "TypeError",
     "evalue": "unsupported operand type(s) for +: 'int' and 'tuple'",
     "output_type": "error",
     "traceback": [
      "\u001b[1;31m---------------------------------------------------------------------------\u001b[0m",
      "\u001b[1;31mTypeError\u001b[0m                                 Traceback (most recent call last)",
      "\u001b[1;32m<ipython-input-88-8b0932b21d3d>\u001b[0m in \u001b[0;36m<module>\u001b[1;34m\u001b[0m\n\u001b[0;32m      1\u001b[0m \u001b[0mest_ini\u001b[0m\u001b[1;33m,\u001b[0m \u001b[0mest_fin\u001b[0m \u001b[1;33m=\u001b[0m \u001b[1;33m(\u001b[0m\u001b[1;36m1\u001b[0m\u001b[1;33m,\u001b[0m \u001b[1;36m20\u001b[0m\u001b[1;33m)\u001b[0m\u001b[1;33m,\u001b[0m \u001b[1;33m(\u001b[0m\u001b[1;36m7\u001b[0m\u001b[1;33m,\u001b[0m \u001b[1;36m8\u001b[0m\u001b[1;33m)\u001b[0m\u001b[1;33m\u001b[0m\u001b[0m\n\u001b[1;32m----> 2\u001b[1;33m \u001b[0mcame_from\u001b[0m\u001b[1;33m,\u001b[0m \u001b[0mcost_so_far\u001b[0m \u001b[1;33m=\u001b[0m \u001b[0maEstrella\u001b[0m\u001b[1;33m(\u001b[0m\u001b[0mmapa_colores\u001b[0m\u001b[1;33m,\u001b[0m \u001b[0mest_ini\u001b[0m\u001b[1;33m,\u001b[0m \u001b[0mest_fin\u001b[0m\u001b[1;33m)\u001b[0m\u001b[1;33m\u001b[0m\u001b[0m\n\u001b[0m\u001b[0;32m      3\u001b[0m \u001b[0mdraw_grid\u001b[0m\u001b[1;33m(\u001b[0m\u001b[0mmapa_colores\u001b[0m\u001b[1;33m,\u001b[0m \u001b[0mwidth\u001b[0m\u001b[1;33m=\u001b[0m\u001b[1;36m3\u001b[0m\u001b[1;33m,\u001b[0m \u001b[0mpoint_to\u001b[0m\u001b[1;33m=\u001b[0m\u001b[0mcame_from\u001b[0m\u001b[1;33m,\u001b[0m \u001b[0mest_ini\u001b[0m\u001b[1;33m=\u001b[0m\u001b[0mest_ini\u001b[0m\u001b[1;33m,\u001b[0m \u001b[0mest_fin\u001b[0m\u001b[1;33m=\u001b[0m\u001b[0mest_fin\u001b[0m\u001b[1;33m)\u001b[0m\u001b[1;33m\u001b[0m\u001b[0m\n\u001b[0;32m      4\u001b[0m \u001b[0mprint\u001b[0m\u001b[1;33m(\u001b[0m\u001b[1;33m)\u001b[0m\u001b[1;33m\u001b[0m\u001b[0m\n\u001b[0;32m      5\u001b[0m \u001b[0mdraw_grid\u001b[0m\u001b[1;33m(\u001b[0m\u001b[0mmapa_colores\u001b[0m\u001b[1;33m,\u001b[0m \u001b[0mwidth\u001b[0m\u001b[1;33m=\u001b[0m\u001b[1;36m3\u001b[0m\u001b[1;33m,\u001b[0m \u001b[0mnumber\u001b[0m\u001b[1;33m=\u001b[0m\u001b[0mcost_so_far\u001b[0m\u001b[1;33m,\u001b[0m \u001b[0mest_ini\u001b[0m\u001b[1;33m=\u001b[0m\u001b[0mest_ini\u001b[0m\u001b[1;33m,\u001b[0m \u001b[0mest_fin\u001b[0m\u001b[1;33m=\u001b[0m\u001b[0mest_fin\u001b[0m\u001b[1;33m)\u001b[0m\u001b[1;33m\u001b[0m\u001b[0m\n",
      "\u001b[1;32m<ipython-input-87-fe0df4de84f1>\u001b[0m in \u001b[0;36maEstrella\u001b[1;34m(mapa_colores, est_ini, est_fin)\u001b[0m\n\u001b[0;32m     14\u001b[0m \u001b[1;33m\u001b[0m\u001b[0m\n\u001b[0;32m     15\u001b[0m         \u001b[1;32mfor\u001b[0m \u001b[0mnext\u001b[0m \u001b[1;32min\u001b[0m \u001b[0msucesores\u001b[0m\u001b[1;33m(\u001b[0m\u001b[0mcurrent\u001b[0m\u001b[1;33m)\u001b[0m\u001b[1;33m:\u001b[0m\u001b[1;33m\u001b[0m\u001b[0m\n\u001b[1;32m---> 16\u001b[1;33m             \u001b[0mnew_cost\u001b[0m \u001b[1;33m=\u001b[0m \u001b[0mcost_so_far\u001b[0m\u001b[1;33m[\u001b[0m\u001b[0mcurrent\u001b[0m\u001b[1;33m]\u001b[0m \u001b[1;33m+\u001b[0m \u001b[0msucesores\u001b[0m\u001b[1;33m(\u001b[0m\u001b[0mcurrent\u001b[0m\u001b[1;33m)\u001b[0m\u001b[1;33m\u001b[0m\u001b[0m\n\u001b[0m\u001b[0;32m     17\u001b[0m             \u001b[1;32mif\u001b[0m \u001b[0mnext\u001b[0m \u001b[1;32mnot\u001b[0m \u001b[1;32min\u001b[0m \u001b[0mcost_so_far\u001b[0m \u001b[1;32mor\u001b[0m \u001b[0mnew_cost\u001b[0m \u001b[1;33m<\u001b[0m \u001b[0mcost_so_far\u001b[0m\u001b[1;33m[\u001b[0m\u001b[0mnext\u001b[0m\u001b[1;33m]\u001b[0m\u001b[1;33m:\u001b[0m\u001b[1;33m\u001b[0m\u001b[0m\n\u001b[0;32m     18\u001b[0m                 \u001b[0mcost_so_far\u001b[0m\u001b[1;33m[\u001b[0m\u001b[0mnext\u001b[0m\u001b[1;33m]\u001b[0m \u001b[1;33m=\u001b[0m \u001b[0mnew_cost\u001b[0m\u001b[1;33m\u001b[0m\u001b[0m\n",
      "\u001b[1;31mTypeError\u001b[0m: unsupported operand type(s) for +: 'int' and 'tuple'"
     ]
    }
   ],
   "source": [
    "est_ini, est_fin = (1, 20), (7, 8)\n",
    "came_from, cost_so_far = aEstrella(mapa_colores, est_ini, est_fin)\n",
    "draw_grid(mapa_colores, width=3, point_to=came_from, est_ini=est_ini, est_fin=est_fin)\n",
    "print()\n",
    "draw_grid(mapa_colores, width=3, number=cost_so_far, est_ini=est_ini, est_fin=est_fin)\n",
    "print()\n",
    "draw_grid(mapa_colores, width=3, path=reconstruct_path(came_from, est_ini=est_ini, est_fin=est_fin))\n",
    "print()"
   ]
  },
  {
   "cell_type": "code",
   "execution_count": null,
   "metadata": {
    "collapsed": true
   },
   "outputs": [],
   "source": []
  }
 ],
 "metadata": {
  "kernelspec": {
   "display_name": "Python 3",
   "language": "python",
   "name": "python3"
  },
  "language_info": {
   "codemirror_mode": {
    "name": "ipython",
    "version": 3
   },
   "file_extension": ".py",
   "mimetype": "text/x-python",
   "name": "python",
   "nbconvert_exporter": "python",
   "pygments_lexer": "ipython3",
   "version": "3.6.3"
  }
 },
 "nbformat": 4,
 "nbformat_minor": 2
}
