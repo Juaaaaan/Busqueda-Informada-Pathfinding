{
 "cells": [
  {
   "cell_type": "code",
   "execution_count": null,
   "metadata": {
    "collapsed": true
   },
   "outputs": [],
   "source": [
    "#Librerías\n",
    "\n",
    "import numpy as np\n",
    "import pandas as pd\n",
    "from matplotlib import pyplot as plt"
   ]
  },
  {
   "cell_type": "code",
   "execution_count": null,
   "metadata": {
    "collapsed": true
   },
   "outputs": [],
   "source": [
    "#Definición de función heurística\n",
    "\n",
    "def heuristica(celda):\n",
    "    dx=abs(celda.x-goal.x)\n",
    "    dy=abs(celda.y-goal.y)\n",
    "    return D*(dx+dy)+(D2-2*D)*min(dx,dy)"
   ]
  },
  {
   "cell_type": "code",
   "execution_count": null,
   "metadata": {
    "collapsed": true
   },
   "outputs": [],
   "source": [
    "#Pintamos el mapa\n",
    "    #Lo primero que hacemos es definir una paleta de colores (acorde a las indicaciones del enunciado)\n",
    "    #coloresPaleta es un array de colores en formato RGB donde \"intuitivamente\" asignamos un color a cada\n",
    "    #superficie, siendo superficie: agua, muro, pantano, arboles, terreno y muro. \n",
    "#Paleta de colores\n",
    "                             #Terreno       Terreno      Muro   Muro    Árboles     Pantano     Agua\n",
    "coloresPaleta = np.array([[255,255,255],[255,255,255],[0,0,0],[0,0,0],[4,132,0],[11,239,197],[17,0,255]],\n",
    "                         dtype=np.uint8)\n",
    "\n",
    "#Cargamos el mapa\n",
    "nuestroMapa= open('./bootybay.map','r').read().split()\n",
    "#Usamos un .split() porque tenemos que dividir nuestro \".map\" en cadenas más pequeñas para que posteriormente\n",
    "#agregue los datos a una matriz de cadenas usando un separador (split) que en este caso es una \",\", porque no\n",
    "#se ha definido ninguno previamente.\n",
    "\n",
    "#Metemos el mapa en un array\n",
    "arrayMapa = np.array(nuestroMapa) \n",
    "#Esto es para que luego podamos concatenar la paleta de colores con nuestro mapa una vez mapeados los datos\n",
    "\n",
    "#Definimos el tamaño de nuestro mapa, 512x512 (alto por ancho)\n",
    "    #Leyendo nuestro arrayMapa (verdaderamente es el .map cargado en un array), podemos acceder a las posiciones\n",
    "    #es decir, al escribir arrayMapa[1], sería igual a 'octile', como ya nos viene definido el tamaño del mapa\n",
    "    #en el .map, o bien definimos las variables altura y anchura con la posicion respectiva a 512 en el array\n",
    "    #o como si fuese una variable normal, nos daría lo mismo\n",
    "height = int(arrayMapa[3])\n",
    "    #height = 512\n",
    "    #print(arrayMapa[3])\n",
    "width = int(arrayMapa[5])\n",
    "    #width = 512\n",
    "    #print(arrayMapa[5])\n",
    "\n",
    "#\n",
    "matriz_split = arrayMapa[7:][:]\n",
    "#¿7? -> eso es porque comienza nuestro primer \"@\". Descartamos de la posición 0 a la 6.\n",
    "#print(matriz_split)\n",
    "\n",
    "\n",
    "#Hacemos una matriz de ceros\n",
    "matriz_ceros_valor = np.zeros((height,width)) \n",
    "#matriz generica porque lo cambiaremos por una serie de valores que se corresponden con cada uno de los caracteres\n",
    "\n",
    "#Vamos leyendo cada posición le asignamos un valor de tal forma que en vez de quedar con caracteres, quedará con\n",
    "#numeros y podremos concatenar las posiciones de la paleta de colores con la matriz que tenemos\n",
    "for i in range(0, height):\n",
    "    for j in range(0, width):\n",
    "        if matriz_split[i][j] == \".\" or matriz_split[i][j] == \"G\":\n",
    "            matriz_ceros_valor[i][j] = 1\n",
    "        elif matriz_split[i][j] == \"@\" or matriz_split[i][j] == \"O\":\n",
    "            matriz_ceros_valor[i][j] = 2\n",
    "        elif matriz_split[i][j] == \"T\":\n",
    "            matriz_ceros_valor[i][j] = 4\n",
    "        elif matriz_split[i][j] == \"S\":\n",
    "            matriz_ceros_valor[i][j] = 5\n",
    "        elif matriz_split[i][j] == \"W\":\n",
    "            matriz_ceros_valor[i][j] = 6\n",
    "\n",
    "\n",
    "mapa2=matriz_ceros_valor.astype(int)\n",
    "plt.imshow(coloresPaleta[mapa2])\n",
    "plt.show()"
   ]
  },
  {
   "cell_type": "code",
   "execution_count": null,
   "metadata": {
    "collapsed": true
   },
   "outputs": [],
   "source": []
  },
  {
   "cell_type": "code",
   "execution_count": null,
   "metadata": {
    "collapsed": true
   },
   "outputs": [],
   "source": [
    "#Funciones necesarias\n",
    "\n",
    "#Extrae el primero de abiertos\n",
    "def extrae_prim(abiertos):\n",
    "    return abiertos[0]\n",
    "\n",
    "\n",
    "#Cada nodo tiene que estar definido por: nodo[coord_x, coord_y, f(n), h(n), g(n)]\n",
    "def es_estado_final(nodo_actual):\n",
    "    estado=False\n",
    "    if(nodo_actual[0] == \"\"\"coodenada objetivo x \"\"\" and nodo_actual[1] == \"\"\"coodenada objetivo x \"\"\"):\n",
    "            estado=True\n",
    "    return estado\n",
    "\n",
    "\n",
    "def camino():\n",
    "    \n",
    "    return\n",
    "\n",
    "#orden operadores: arriba, derecha, abajo, izquierda\n",
    "def sucesores(nodo_actual):\n",
    "    if(nodo_actual[0] >= 1):                           # puede ir hacia arriba\n",
    "        sucesor = (nodo_actual[0]-1, nodo_actual[1])\n",
    "    elif(nodo_actual[1] < llamarEscenarios[0]):        # puede ir hacia la derecha   \n",
    "        sucesor = (nodo_actual[0], nodo_actual[1]+1)\n",
    "    elif(nodo_actual[0] < llamarEscenarios[1]):       # puede ir hacia abajo \n",
    "        sucesor = (nodo_actual[0]+1, nodo_actual[1])\n",
    "    elif(nodo_actual[1] >= 1):                         # puede ir hacia la izquierda\n",
    "        sucesor = (nodo_actual[0], nodo_actual[1]-1)\n",
    "    return sucesor\n",
    "\n",
    "def gestiona_cola_Aestrella():\n",
    "    \n",
    "    return\n",
    "\n",
    "def gestiona_cola_Avara(abiertos, sucesores):\n",
    "    cola = abiertos.append(sucesores)\n",
    "    abiertos = sorted(sucesores, key=nodo[2]) #ordenamos los sucesores por orden ascendente de f(n)\n",
    "    return abiertos\n"
   ]
  },
  {
   "cell_type": "code",
   "execution_count": null,
   "metadata": {
    "collapsed": true
   },
   "outputs": [],
   "source": [
    "#A*\n",
    "\n",
    "def Aestrella(estado_ini, estado_fin):\n",
    "    \n",
    "    abiertos=[estado_ini]\n",
    "    cerrados=[]\n",
    "    \n",
    "    while(len(abiertos) != 0):\n",
    "        nodo_actual = extrae_prim(abiertos)\n",
    "        #poner nodo_actual en cerrado \n",
    "        if(es_estado_final(nodo_actual) == True):\n",
    "            print(camino(nodo_actual))\n",
    "        else:\n",
    "            sucesores(nodo_actual)\n",
    "            if(sucesor in cerrados):\n",
    "                if(\"\"\"coste del sucesor es menor\"\"\"):\n",
    "                    #insertar ordenadamente actualizar coste y camino\n",
    "                    print(\"control\")\n",
    "            else:\n",
    "                if(sucesor in abiertos):\n",
    "                    if(\"\"\"coste del sucesor es menor\"\"\"):\n",
    "                    #insertar ordenadamente actualizar coste y camino\n",
    "                        print(\"control\")\n",
    "            gestiona_cola_Aestrella(abiertos, sucesores)     \n",
    "\n",
    "\n"
   ]
  },
  {
   "cell_type": "code",
   "execution_count": null,
   "metadata": {
    "collapsed": true
   },
   "outputs": [],
   "source": [
    "#Avara\n",
    "\n",
    "def Avara(estado_ini, estado_fin):\n",
    "    \n",
    "    estado_ini = datos_entrada[2]\n",
    "    \n",
    "    abiertos=[estado_ini]\n",
    "    cerrados=[]\n",
    "    \n",
    "    while(len(abiertos) != 0):\n",
    "        nodo_actual = extrae_prim(abiertos)\n",
    "        cerrados.append(nodo_actual)\n",
    "        if(es_estado_final(nodo_actual) == True):\n",
    "            print(camino(nodo_actual))\n",
    "        else:\n",
    "            sucesores(nodo_actual)\n",
    "            if(sucesor in cerrados):\n",
    "                print(\"no se añade el sucesor: \", sucesor)\n",
    "            elif(sucesor in abiertos):\n",
    "                print(\"no se añade el sucesor: \", sucesor)\n",
    "            gestiona_cola_Avara(abiertos, sucesores)     \n",
    "\n"
   ]
  },
  {
   "cell_type": "code",
   "execution_count": null,
   "metadata": {
    "collapsed": true
   },
   "outputs": [],
   "source": []
  },
  {
   "cell_type": "code",
   "execution_count": null,
   "metadata": {
    "collapsed": true
   },
   "outputs": [],
   "source": []
  },
  {
   "cell_type": "code",
   "execution_count": null,
   "metadata": {
    "collapsed": true
   },
   "outputs": [],
   "source": [
    "#preprocesamos los datos de los escenarios para facilitar su uso\n",
    "lista_escenarios=[]\n",
    "with open('./bootybay.map.scen', 'r') as sc:  \n",
    "    linea = sc.readline()\n",
    "    while linea:\n",
    "        print(linea.strip())\n",
    "        lista_escenarios.append(linea.strip().split())\n",
    "        linea = sc.readline()"
   ]
  },
  {
   "cell_type": "code",
   "execution_count": null,
   "metadata": {
    "collapsed": true
   },
   "outputs": [],
   "source": [
    "#cogemos todos los datos de los escenarios\n",
    "def llamarEscenarios(lista_escenarios):\n",
    "    for i in range(len(lista_escenarios)-1): #el -1 es para quitar la ultima línea que está vacía\n",
    "        if(i>0):\n",
    "            ancho = int(lista_escenarios[i][2])\n",
    "            alto = int(lista_escenarios[i][3])\n",
    "            est_ini = (int(lista_escenarios[i][4]), int(lista_escenarios[i][5]))\n",
    "            est_fin = (int(lista_escenarios[i][6]), int(lista_escenarios[i][7]))\n",
    "            L_opt = float(lista_escenarios[i][8])\n",
    "    return ancho, alto, est_ini, est_fin, L_opt"
   ]
  },
  {
   "cell_type": "code",
   "execution_count": null,
   "metadata": {
    "collapsed": true
   },
   "outputs": [],
   "source": [
    "llamarEscenarios(lista_escenarios)"
   ]
  },
  {
   "cell_type": "code",
   "execution_count": null,
   "metadata": {
    "collapsed": true
   },
   "outputs": [],
   "source": [
    "#MAIN\n",
    "\n",
    "datos_entrada = llamarEscenarios(lista_escenarios)\n",
    "\n",
    "Avara(datos_entrada[2],datos_entrada[3])"
   ]
  }
 ],
 "metadata": {
  "kernelspec": {
   "display_name": "Python 3",
   "language": "python",
   "name": "python3"
  },
  "language_info": {
   "codemirror_mode": {
    "name": "ipython",
    "version": 3
   },
   "file_extension": ".py",
   "mimetype": "text/x-python",
   "name": "python",
   "nbconvert_exporter": "python",
   "pygments_lexer": "ipython3",
   "version": "3.6.3"
  }
 },
 "nbformat": 4,
 "nbformat_minor": 2
}
