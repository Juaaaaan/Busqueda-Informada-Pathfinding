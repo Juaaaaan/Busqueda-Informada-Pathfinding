{
 "cells": [
  {
   "cell_type": "code",
   "execution_count": null,
   "metadata": {
    "collapsed": true
   },
   "outputs": [],
   "source": [
    "#Librerías\n",
    "\n",
    "import numpy as np\n",
    "import pandas as pd\n",
    "from matplotlib import pyplot as plt\n",
    "from matplotlib import patches as patches"
   ]
  },
  {
   "cell_type": "code",
   "execution_count": null,
   "metadata": {
    "collapsed": true
   },
   "outputs": [],
   "source": [
    "#Definición de función heurística\n",
    "\n",
    "def heuristica(celda):\n",
    "    dx=abs(celda.x-goal.x)\n",
    "    dy=abs(celda.y-goal.y)\n",
    "    return D*(dx+dy)+(D2-2*D)*min(dx,dy)"
   ]
  },
  {
   "cell_type": "code",
   "execution_count": null,
   "metadata": {},
   "outputs": [],
   "source": [
    "#Abrimos el archivo inicial\n",
    "mapa_inicial = open(\"./bootybay.map\",\"r\")\n",
    "print(mapa_inicial.read())"
   ]
  },
  {
   "cell_type": "code",
   "execution_count": null,
   "metadata": {
    "collapsed": true
   },
   "outputs": [],
   "source": [
    "#Cogemos SOLO el mapa\n",
    "with open(\"./bootybay.map\", 'r') as f,\\\n",
    "    open('test_output.txt', 'w+') as f2:\n",
    "    for lines in f:\n",
    "        if lines.startswith('@' or 'T' or'W' or'S'):\n",
    "            f2.write(lines)\n",
    "    f2.close()\n",
    "    \n",
    "with open('test_output.txt', 'r') as f2:\n",
    "    data = f2.read()\n",
    "    print(data)\n",
    "    f2.close()"
   ]
  },
  {
   "cell_type": "code",
   "execution_count": null,
   "metadata": {
    "collapsed": true
   },
   "outputs": [],
   "source": [
    "import time\n",
    "time.sleep(10)\n",
    "from time import sleep\n",
    "sleep(10)"
   ]
  },
  {
   "cell_type": "code",
   "execution_count": null,
   "metadata": {
    "collapsed": true
   },
   "outputs": [],
   "source": [
    "import tkinter as tk"
   ]
  },
  {
   "cell_type": "code",
   "execution_count": null,
   "metadata": {
    "collapsed": true
   },
   "outputs": [],
   "source": [
    "#Abrimos una ventana del tamaño del mapa y lo mostaramos \n",
    "root = tk.Tk()\n",
    "w = tk.Label(root, text=data, bg=\"red\")\n",
    "w.pack()\n",
    "root.mainloop()"
   ]
  },
  {
   "cell_type": "code",
   "execution_count": null,
   "metadata": {
    "collapsed": true
   },
   "outputs": [],
   "source": []
  },
  {
   "cell_type": "code",
   "execution_count": null,
   "metadata": {
    "collapsed": true
   },
   "outputs": [],
   "source": []
  },
  {
   "cell_type": "code",
   "execution_count": null,
   "metadata": {
    "collapsed": true
   },
   "outputs": [],
   "source": []
  },
  {
   "cell_type": "code",
   "execution_count": null,
   "metadata": {
    "collapsed": true
   },
   "outputs": [],
   "source": []
  },
  {
   "cell_type": "code",
   "execution_count": null,
   "metadata": {
    "collapsed": true
   },
   "outputs": [],
   "source": []
  },
  {
   "cell_type": "code",
   "execution_count": null,
   "metadata": {
    "collapsed": true
   },
   "outputs": [],
   "source": []
  },
  {
   "cell_type": "code",
   "execution_count": null,
   "metadata": {
    "collapsed": true
   },
   "outputs": [],
   "source": []
  },
  {
   "cell_type": "code",
   "execution_count": null,
   "metadata": {
    "collapsed": true
   },
   "outputs": [],
   "source": []
  },
  {
   "cell_type": "code",
   "execution_count": null,
   "metadata": {
    "collapsed": true
   },
   "outputs": [],
   "source": [
    "data = data.replace('[0,0,0]', '@')\n",
    "#data = data.replace('@', '[0,0,0]')\n",
    "data"
   ]
  },
  {
   "cell_type": "code",
   "execution_count": null,
   "metadata": {
    "collapsed": true,
    "scrolled": true
   },
   "outputs": [],
   "source": [
    "plt.imshow(data)\n",
    "\n",
    "plt.show()"
   ]
  },
  {
   "cell_type": "code",
   "execution_count": null,
   "metadata": {},
   "outputs": [],
   "source": [
    "\"\"\"with open(\"C:/Users/xurxo/Desktop/IA-II/2018/test_output.txt\", 'r') as f:\n",
    "    Z = []\n",
    "    for lines in f:\n",
    "        if lines.startswith('@' or 'T' or'W' or'S'):\n",
    "            Z = Z.insert(i, lines)\n",
    "            \n",
    "print(Z)\"\"\"\n",
    "\n",
    "\n",
    "\n",
    "s = []\n",
    "f=open(\"C:/Users/xurxo/Desktop/IA-II/2018/test_output.txt\")\n",
    "for i in list(f.read()):\n",
    "    s.append(i)\n",
    "    print(s)"
   ]
  },
  {
   "cell_type": "code",
   "execution_count": null,
   "metadata": {},
   "outputs": [],
   "source": [
    "Z = np.array(data)\n",
    "im = plt.imshow(Z, cmap='hot')\n",
    "plt.colorbar(im, orientation='horizontal')\n",
    "plt.show()"
   ]
  },
  {
   "cell_type": "code",
   "execution_count": null,
   "metadata": {
    "collapsed": true
   },
   "outputs": [],
   "source": [
    "# Función para pintar una matriz de valores como colores RGB\n",
    "def pintar_mapa(data):\n",
    "    fig = plt.figure()\n",
    "    \n",
    "    # Establece ejes\n",
    "    ax = fig.add_subplot(111, aspect='equal')\n",
    "    ax.set_xlim((0, 512))\n",
    "    ax.set_ylim((512, 0))\n",
    "\n",
    "    # Dibuja los rectángulos de color RGB\n",
    "    \n",
    "    ax.add_patch(patches.Rectangle((300, 300), 3,3, facecolor='black', edgecolor='black'))\n",
    "    \n",
    "    plt.show()\n",
    "\n",
    "    \n",
    "    \n",
    "    \n",
    "pintar_mapa(b)  \n",
    "#b = data.replace(\"0\",\"@\")\n",
    "#print(b)"
   ]
  },
  {
   "cell_type": "code",
   "execution_count": null,
   "metadata": {
    "scrolled": false
   },
   "outputs": [],
   "source": [
    "with open(\"C:/Users/xurxo/Desktop/IA-II/2018/bootybay.map\", 'r') as f,\\\n",
    "    open('test_output.txt', 'w+') as f2:\n",
    "    for lines in f:\n",
    "        if lines.startswith('@' or 'T' or'W' or'S'):\n",
    "            f2.write(lines)\n",
    "    f2.close()\n",
    "    \n",
    "with open('test_output.txt', 'r') as f2:\n",
    "    data = f2.read()\n",
    "    print(data)\n",
    "    f2.close()"
   ]
  },
  {
   "cell_type": "code",
   "execution_count": null,
   "metadata": {
    "collapsed": true
   },
   "outputs": [],
   "source": []
  },
  {
   "cell_type": "code",
   "execution_count": null,
   "metadata": {
    "collapsed": true
   },
   "outputs": [],
   "source": []
  }
 ],
 "metadata": {
  "kernelspec": {
   "display_name": "Python 3",
   "language": "python",
   "name": "python3"
  },
  "language_info": {
   "codemirror_mode": {
    "name": "ipython",
    "version": 3
   },
   "file_extension": ".py",
   "mimetype": "text/x-python",
   "name": "python",
   "nbconvert_exporter": "python",
   "pygments_lexer": "ipython3",
   "version": "3.6.3"
  }
 },
 "nbformat": 4,
 "nbformat_minor": 2
}
